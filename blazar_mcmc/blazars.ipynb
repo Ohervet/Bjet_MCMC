{
 "cells": [
  {
   "cell_type": "code",
   "execution_count": 5,
   "metadata": {},
   "outputs": [],
   "source": [
    "import blazar_model, blazar_utils, blazar_plots, blazar_report\n",
    "from blazar_properties import *\n",
    "import matplotlib.pyplot as plt\n",
    "import numpy as np"
   ]
  },
  {
   "cell_type": "code",
   "execution_count": 6,
   "outputs": [],
   "source": [
    "name_stem = \"eic_test\"\n",
    "parameter_values = [51.4889454 ,  2.43080899,  1.9833006 ,  3.75199999,  1.23155994,\n",
    "        6.00509989,  4.42337681, -2.27062111, 16.97900487,  3.47387567,\n",
    "       46.85806811, -5.96730177, 10.87735718]"
   ],
   "metadata": {
    "collapsed": false,
    "pycharm": {
     "name": "#%%\n"
    }
   }
  },
  {
   "cell_type": "code",
   "execution_count": 7,
   "outputs": [
    {
     "name": "stdout",
     "output_type": "stream",
     "text": [
      "params [51.4889454, 269.6553182263695, 1.9833006, 3.75199999, 17.043545328985903, 1011812.149579364, 26507.99072732925, 0.005362643046619016, 9.52806848348526e+16, 2977.663860583329, 7.212205786671312e+46, 1.0781972753164177e-06, 75397540633.81923]\n",
      "['2', '/Users/sarahyoungquist/code/blazar-project/blazars-mcmc/sed_calculations', '1', '0.143', '69.6', '0.57', '51.4889454', '269.6553182263695', '1.9833006', '3.75199999', '17.043545328985903', '1011812.149579364', '26507.99072732925', '0.005362643046619016', '9.52806848348526e+16', '0', '1', '75397540633.81923', '2977.663860583329', '2.0e+4', '7.212205786671312e+46', '1.0781972753164177e-06', '5.5e+20', '9.0e-5', '300', '50000000.0', '1e+29', 'eic_test']\n",
      "\n"
     ]
    },
    {
     "name": "stderr",
     "output_type": "stream",
     "text": [
      "Hubble constant:        69.600\n",
      "redshift                 0.143\n",
      "\n",
      "Blob parameters:\n",
      "---------------\n",
      "Doppler factor:         51.489\n",
      "theta:                  5.700e-01\n",
      "V blob:                 9.993e-01\n",
      "Lorentz factor:         2.771e+01\n",
      "V apparent:             1.418e+01\n",
      "K_1:                    2.697e+02\n",
      "n_1:                     1.983\n",
      "n_2:                     3.752\n",
      "gamma_min:              1.704e+01\n",
      "gamma_brk:              2.651e+04\n",
      "gamma_max:              1.012e+06\n",
      "radius:                 9.528e+16\n",
      "Distance SMBH-blob (host frame):           7.539754e+10 [cm] (0.000000 [pc])\n",
      "\n",
      "EIC parameters:\n",
      "---------------\n",
      "disk blackbody temp.:   2.978e+03\n",
      "tore blackbody temp.:   2.000e+04\n",
      "nuclear lumin.:         7.212e+46\n",
      "reprocessing fraction:  1.078e-06\n",
      "R_blr:                  8.287e+17\n",
      "CALCULATING SYNCHROTRON SPECTRUM ... DONE\n",
      "\n",
      "CALCULATING SSC SPECTRUM ... DONE\n",
      "\n",
      "CALCULATING 2nd ORDER SSC SPECTRUM ... DONE\n",
      "\n",
      "CALCULATING NUCLEAR LUMINOSITY SPECTRUM ... DONE\n",
      "\n",
      "CALCULATING EXT. INV. COMPTON SPECTRUM ON NUCLEAR RADIATION ...   1SUBROUTINE: 'FreqTransS2O' ERROR: Wrong value of 'nu'\n",
      "  2SUBROUTINE: 'FreqTransS2O' ERROR: Wrong value of 'nu'\n",
      "  3SUBROUTINE: 'FreqTransS2O' ERROR: Wrong value of 'nu'\n",
      "  4SUBROUTINE: 'FreqTransS2O' ERROR: Wrong value of 'nu'\n",
      "  5SUBROUTINE: 'FreqTransS2O' ERROR: Wrong value of 'nu'\n",
      "  6SUBROUTINE: 'FreqTransS2O' ERROR: Wrong value of 'nu'\n",
      "DONE\n",
      "\n",
      "CALCULATING EXT. INV. COMPTON SPECTRUM ON BLR ... DONE\n",
      "\n",
      "CALCULATING RADIATION ABSORPTION OF THE BLOB EMISSION THROUGH THE BLR ... 1.000e+29\n",
      "BLR opacity: 7.538e-02  Eblob obs frame: 2.660e-01 [TeV]\n",
      "SUBROUTINE: 'gg_abs' ERROR: Wrong value of 'nu_c': '2.338102e+27', not in ['1.109947e+06','2.219894e+27']\n",
      "SUBROUTINE: 'gg_abs' ERROR: Wrong value of 'nu_c': '2.338102e+27', not in ['1.109947e+06','2.219894e+27']\n",
      "SUBROUTINE: 'gg_abs' ERROR: Wrong value of 'nu_c': '2.753384e+27', not in ['1.109947e+06','2.219894e+27']\n",
      "SUBROUTINE: 'gg_abs' ERROR: Wrong value of 'nu_c': '3.242427e+27', not in ['1.109947e+06','2.219894e+27']\n",
      "SUBROUTINE: 'gg_abs' ERROR: Wrong value of 'nu_c': '3.818332e+27', not in ['1.109947e+06','2.219894e+27']\n",
      "SUBROUTINE: 'gg_abs' ERROR: Wrong value of 'nu_c': '4.496526e+27', not in ['1.109947e+06','2.219894e+27']\n",
      "SUBROUTINE: 'gg_abs' ERROR: Wrong value of 'nu_c': '5.295178e+27', not in ['1.109947e+06','2.219894e+27']\n",
      "SUBROUTINE: 'gg_abs' ERROR: Wrong value of 'nu_c': '6.235682e+27', not in ['1.109947e+06','2.219894e+27']\n",
      "SUBROUTINE: 'gg_abs' ERROR: Wrong value of 'nu_c': '7.343235e+27', not in ['1.109947e+06','2.219894e+27']\n",
      "SUBROUTINE: 'gg_abs' ERROR: Wrong value of 'nu_c': '8.647506e+27', not in ['1.109947e+06','2.219894e+27']\n",
      "SUBROUTINE: 'gg_abs' ERROR: Wrong value of 'nu_c': '1.018343e+28', not in ['1.109947e+06','2.219894e+27']\n",
      "SUBROUTINE: 'gg_abs' ERROR: Wrong value of 'nu_c': '1.199217e+28', not in ['1.109947e+06','2.219894e+27']\n",
      "SUBROUTINE: 'gg_abs' ERROR: Wrong value of 'nu_c': '1.412216e+28', not in ['1.109947e+06','2.219894e+27']\n",
      "SUBROUTINE: 'gg_abs' ERROR: Wrong value of 'nu_c': '1.663047e+28', not in ['1.109947e+06','2.219894e+27']\n",
      "SUBROUTINE: 'gg_abs' ERROR: Wrong value of 'nu_c': '1.958430e+28', not in ['1.109947e+06','2.219894e+27']\n",
      "SUBROUTINE: 'gg_abs' ERROR: Wrong value of 'nu_c': '2.306277e+28', not in ['1.109947e+06','2.219894e+27']\n",
      "SUBROUTINE: 'gg_abs' ERROR: Wrong value of 'nu_c': '2.715907e+28', not in ['1.109947e+06','2.219894e+27']\n",
      "SUBROUTINE: 'gg_abs' ERROR: Wrong value of 'nu_c': '3.198293e+28', not in ['1.109947e+06','2.219894e+27']\n",
      "SUBROUTINE: 'gg_abs' ERROR: Wrong value of 'nu_c': '3.766359e+28', not in ['1.109947e+06','2.219894e+27']\n",
      "SUBROUTINE: 'gg_abs' ERROR: Wrong value of 'nu_c': '4.435322e+28', not in ['1.109947e+06','2.219894e+27']\n",
      "SUBROUTINE: 'gg_abs' ERROR: Wrong value of 'nu_c': '5.223103e+28', not in ['1.109947e+06','2.219894e+27']\n",
      "\n",
      "\n",
      "DERIVED PARAMETERS FROM THE BLOB:\n",
      "----------\n",
      "Velocity:                    9.993e-01 c \n",
      "Observed synch Gamma_max cool. time:     5.904e+05 s \n",
      "Observed IC Gamma_max cool. time:        5.277e+05 s \n",
      "Observed IC Gamma_min cool. time:        3.133e+10 s \n",
      "Observed synch Gamma_break cool. time:    2.253e+07 s \n",
      "Observed SSC Gamma_break cool. time:      2.014e+07 s \n",
      "Observed EIC BLR Gamma_break cool. time:  2.442e+05 s \n",
      "Observed combined Gamma_max cool. time (synch+SSC+IC blr):  1.737e+00 h \n",
      "Observed combined Gamma_break cool. time (synch+SSC+IC blr):  6.631e+01 h \n",
      "Observed minimal variability:             1.960e+01 h \n",
      "Electron particle density:   1.686e+01 cm^-3 \n",
      "Electron energy density:     1.959e-03 erg cm^-3 \n",
      "Synchrotron energy density:  1.280e-06 erg cm^-3 \n",
      "Magnetic energy density:     1.144e-06 erg cm^-3 \n",
      "U_B/U_e:                     5.840e-04  \n",
      "\n",
      "\n",
      "Magnetic power:              7.511e+41 erg s^-1 \n",
      "Electrons power:             1.286e+45 erg s^-1 \n",
      "Cold proton power (parity):  1.664e+46 erg s^-1 \n",
      "Syn power:                   8.403e+41 erg s^-1 \n",
      "Ssc power:                   1.582e+42 erg s^-1 \n",
      "Ssc2 power:                  6.868e+38 erg s^-1 \n",
      "Eic disk power:              1.850e+43 erg s^-1 \n",
      "Eic jet power:               4.563e-262 erg s^-1 \n",
      "Radiation power (beware, not all abs. considered):             2.092e+43 erg s^-1 \n",
      "Blob distance:             9.099e-08 X R_BLR\n",
      "\n",
      "\n",
      "GENERAL DERIVED PARAMETERS:\n",
      "----------\n",
      "luminosity distance:                                6.365266e+02 [M pc]\n",
      "Total radiation power (nucleus included):           7.214e+46 erg s^-1 \n",
      "Total power (without cold particles):               7.343e+46 erg s^-1 \n",
      "Total power (without cold particles & nucleus):     1.308e+45 erg s^-1 \n",
      "Total power (with cold particles & without nucleus):1.795e+46 erg s^-1 \n",
      "\n",
      "ALL CALCULATIONS DONE !!! [time: 15.0 sec]\n",
      "\n",
      "SAVING FINAL SPECTRUM\n"
     ]
    }
   ],
   "source": [
    "blazar_model.make_SED(parameter_values, name_stem=name_stem, verbose=True, eic=True)"
   ],
   "metadata": {
    "collapsed": false,
    "pycharm": {
     "name": "#%%\n"
    }
   }
  },
  {
   "cell_type": "code",
   "execution_count": 8,
   "metadata": {
    "pycharm": {
     "name": "#%%\n"
    }
   },
   "outputs": [],
   "source": [
    "real_v, real_vFv, real_err = blazar_utils.read_data(\"real_data/3C66A_sed_block1.dat\")"
   ]
  },
  {
   "cell_type": "code",
   "execution_count": 9,
   "metadata": {
    "pycharm": {
     "name": "#%%\n"
    }
   },
   "outputs": [],
   "source": [
    "synchrotron_model = blazar_model.read_data_to_np_array(BASE_PATH + \"sed_calculations/\" + name_stem + \"_ss.dat\")\n",
    "logv_synchrotron = synchrotron_model[:, 0]\n",
    "logvFv_synchrotron = synchrotron_model[:, 2]\n",
    "v_synchrotron = np.power(10, logv_synchrotron)\n",
    "vFv_synchrotron = np.power(10, logvFv_synchrotron)"
   ]
  },
  {
   "cell_type": "code",
   "execution_count": 10,
   "metadata": {
    "pycharm": {
     "name": "#%%\n"
    }
   },
   "outputs": [],
   "source": [
    "compton_model = blazar_model.read_data_to_np_array(BASE_PATH + \"sed_calculations/\" + name_stem + \"_cs.dat\")\n",
    "logv_compton = compton_model[:, 0]\n",
    "logvFv_compton = compton_model[:, 2]\n",
    "v_compton = np.power(10, logv_compton)\n",
    "vFv_compton = np.power(10, logvFv_compton)"
   ]
  },
  {
   "cell_type": "code",
   "execution_count": 11,
   "metadata": {
    "pycharm": {
     "name": "#%%\n"
    }
   },
   "outputs": [],
   "source": [
    "cs2_model = blazar_model.read_data_to_np_array(BASE_PATH + \"sed_calculations/\" + name_stem + \"_cs2.dat\")\n",
    "logv_cs2 = cs2_model[:, 0]\n",
    "logvFv_cs2 = cs2_model[:, 2]\n",
    "v_cs2 = np.power(10, logv_cs2)\n",
    "vFv_cs2 = np.power(10, logvFv_cs2)"
   ]
  },
  {
   "cell_type": "code",
   "execution_count": 12,
   "outputs": [],
   "source": [
    "ecs_model = blazar_model.read_data_to_np_array(BASE_PATH + \"sed_calculations/\" + name_stem + \"_ecs.dat\")\n",
    "logv_ecs = ecs_model[:, 0]\n",
    "logvFv_ecs = ecs_model[:, 2]\n",
    "v_ecs = np.power(10, logv_ecs)\n",
    "vFv_ecs = np.power(10, logvFv_ecs)"
   ],
   "metadata": {
    "collapsed": false,
    "pycharm": {
     "name": "#%%\n"
    }
   }
  },
  {
   "cell_type": "code",
   "execution_count": 13,
   "outputs": [],
   "source": [
    "nuc_model = blazar_model.read_data_to_np_array(BASE_PATH + \"sed_calculations/\" + name_stem + \"_nuc.dat\")\n",
    "logv_nuc = nuc_model[:, 0]\n",
    "logvFv_nuc = nuc_model[:, 2]\n",
    "v_nuc = np.power(10, logv_nuc)\n",
    "vFv_nuc = np.power(10, logvFv_nuc)"
   ],
   "metadata": {
    "collapsed": false,
    "pycharm": {
     "name": "#%%\n"
    }
   }
  },
  {
   "cell_type": "code",
   "execution_count": 14,
   "outputs": [],
   "source": [
    "logv_ssc, logvFv_ssc, v_ssc, vFv_ssc = blazar_model.add_data((logv_synchrotron, logvFv_synchrotron, v_synchrotron, vFv_synchrotron), new_data=(logv_compton, logvFv_compton, v_compton, vFv_compton))"
   ],
   "metadata": {
    "collapsed": false,
    "pycharm": {
     "name": "#%%\n"
    }
   }
  },
  {
   "cell_type": "code",
   "execution_count": 15,
   "metadata": {
    "pycharm": {
     "name": "#%%\n"
    }
   },
   "outputs": [],
   "source": [
    "logv_ssc2, logvFv_ssc2, v_ssc2, vFv_ssc2 = blazar_model.add_data((logv_ssc, logvFv_ssc, v_ssc, vFv_ssc), file_suffix='cs2', name_stem=name_stem)"
   ]
  },
  {
   "cell_type": "code",
   "execution_count": 16,
   "metadata": {},
   "outputs": [],
   "source": [
    "logv_eic, logvFv_eic, v_eic, vFv_eic = blazar_model.add_data((logv_ssc2, logvFv_ssc2, v_ssc2, vFv_ssc2), file_suffix='ecs', name_stem=name_stem)"
   ]
  },
  {
   "cell_type": "markdown",
   "source": [],
   "metadata": {
    "collapsed": false,
    "pycharm": {
     "name": "#%% md\n"
    }
   }
  },
  {
   "cell_type": "code",
   "execution_count": 17,
   "outputs": [],
   "source": [
    "logv_nuc_eic, logvFv_nuc_eic, v_nuc_eic, vFv_nuc_eic = blazar_model.add_data((logv_eic, logvFv_eic, v_eic, vFv_eic), file_suffix='nuc', name_stem=name_stem)"
   ],
   "metadata": {
    "collapsed": false,
    "pycharm": {
     "name": "#%%\n"
    }
   }
  },
  {
   "cell_type": "code",
   "execution_count": 18,
   "metadata": {
    "pycharm": {
     "name": "#%%\n"
    }
   },
   "outputs": [
    {
     "data": {
      "text/plain": "<matplotlib.legend.Legend at 0x7fbc501b8590>"
     },
     "execution_count": 18,
     "metadata": {},
     "output_type": "execute_result"
    },
    {
     "data": {
      "text/plain": "<Figure size 720x720 with 1 Axes>",
      "image/png": "[encoded data removed]"
     },
     "metadata": {
      "needs_background": "light"
     },
     "output_type": "display_data"
    }
   ],
   "source": [
    "fig = plt.figure(figsize=(10, 10))\n",
    "ax = plt.axes()\n",
    "ax.set_xscale(\"log\")\n",
    "ax.set_yscale(\"log\")\n",
    "real = ax.errorbar(real_v, real_vFv, yerr=real_err, fmt='.', label=\"real data\")\n",
    "orig_xlim1, orig_xlim2 = ax.get_xlim()\n",
    "orig_ylim1, orig_ylim2 = ax.get_ylim()\n",
    "\n",
    "ax.set_xlim(1 / 500 * orig_xlim1, 500 * orig_xlim2)\n",
    "ax.set_ylim(1/ 10e15 * orig_ylim1, 10e6 * orig_ylim2)\n",
    "\n",
    "ss, = ax.plot(v_synchrotron, vFv_synchrotron, label=\"synchrotron\", linewidth=.5)\n",
    "cs, = ax.plot(v_compton, vFv_compton, label=\"compton\", linewidth=.5)\n",
    "cs2, = ax.plot(v_cs2, vFv_cs2, label=\"cs2\", linewidth=.5)\n",
    "ecs, = ax.plot(v_ecs, vFv_ecs, label=\"ecs\", linewidth=.5)\n",
    "nuc, = ax.plot(v_nuc, vFv_nuc, label=\"nuc\", linewidth=.5)\n",
    "\n",
    "ssc, = ax.plot(v_ssc, vFv_ssc, label=\"ssc\", ls='-', linewidth=1.5)\n",
    "ssc2, = ax.plot(v_ssc2, vFv_ssc2, label=\"with cs2\", ls='-.', linewidth=1.5)\n",
    "eic, = ax.plot(v_eic, vFv_eic, '-', label=\"with ecs\", linewidth=1.5)\n",
    "nuc_eic, = ax.plot(v_nuc_eic, vFv_nuc_eic, '-', label=\"with ecs + nuc\", linewidth=1.5)\n",
    "\n",
    "lines = [real, ss, cs, cs2, ecs, nuc, ssc, ssc2, eic, nuc_eic]\n",
    "\n",
    "ax.legend(fancybox=True)\n"
   ]
  },
  {
   "cell_type": "code",
   "execution_count": 19,
   "metadata": {},
   "outputs": [
    {
     "ename": "ValueError",
     "evalue": "operands could not be broadcast together with shapes (284,) (283,) ",
     "output_type": "error",
     "traceback": [
      "\u001B[0;31m---------------------------------------------------------------------------\u001B[0m",
      "\u001B[0;31mValueError\u001B[0m                                Traceback (most recent call last)",
      "\u001B[0;32m/var/folders/f9/s3c696qn7xv_z8kyrxx_59q80000gn/T/ipykernel_63999/3986391180.py\u001B[0m in \u001B[0;36m<module>\u001B[0;34m\u001B[0m\n\u001B[0;32m----> 1\u001B[0;31m \u001B[0mplt\u001B[0m\u001B[0;34m.\u001B[0m\u001B[0mplot\u001B[0m\u001B[0;34m(\u001B[0m\u001B[0mlogv_eic\u001B[0m\u001B[0;34m,\u001B[0m \u001B[0mlogvFv_eic\u001B[0m \u001B[0;34m-\u001B[0m \u001B[0mlogvFv_ssc2\u001B[0m\u001B[0;34m)\u001B[0m\u001B[0;34m\u001B[0m\u001B[0;34m\u001B[0m\u001B[0m\n\u001B[0m\u001B[1;32m      2\u001B[0m \u001B[0mlogvFv_eic\u001B[0m \u001B[0;34m-\u001B[0m \u001B[0mlogvFv_ssc2\u001B[0m\u001B[0;34m\u001B[0m\u001B[0;34m\u001B[0m\u001B[0m\n",
      "\u001B[0;31mValueError\u001B[0m: operands could not be broadcast together with shapes (284,) (283,) "
     ]
    }
   ],
   "source": [
    "plt.plot(logv_eic, logvFv_eic - logvFv_ssc2)\n",
    "logvFv_eic - logvFv_ssc2"
   ]
  },
  {
   "cell_type": "code",
   "execution_count": null,
   "metadata": {},
   "outputs": [],
   "source": [
    "plt.plot(logv_ssc2, logvFv_ssc2 - logvFv_ssc)\n",
    "logvFv_ssc2 - logvFv_ssc"
   ]
  },
  {
   "cell_type": "code",
   "execution_count": null,
   "outputs": [],
   "source": [],
   "metadata": {
    "collapsed": false,
    "pycharm": {
     "name": "#%%\n"
    }
   }
  },
  {
   "cell_type": "code",
   "execution_count": null,
   "metadata": {},
   "outputs": [],
   "source": []
  },
  {
   "cell_type": "code",
   "execution_count": null,
   "outputs": [],
   "source": [],
   "metadata": {
    "collapsed": false,
    "pycharm": {
     "name": "#%%\n"
    }
   }
  }
 ],
 "metadata": {
  "kernelspec": {
   "display_name": "Python 3 (ipykernel)",
   "language": "python",
   "name": "python3"
  },
  "language_info": {
   "codemirror_mode": {
    "name": "ipython",
    "version": 3
   },
   "file_extension": ".py",
   "mimetype": "text/x-python",
   "name": "python",
   "nbconvert_exporter": "python",
   "pygments_lexer": "ipython3",
   "version": "3.7.11"
  }
 },
 "nbformat": 4,
 "nbformat_minor": 1
}